{
 "cells": [
  {
   "cell_type": "markdown",
   "metadata": {},
   "source": [
    "# Busca em Grade de Redes Neurais Artificiais"
   ]
  },
  {
   "cell_type": "markdown",
   "metadata": {},
   "source": [
    "**Disciplina:** Redes Neurais Artificiais 2025.1\n",
    "\n",
    "**Professora orientadora:** \n",
    "Elloa B. Guedes (ebgcosta@uea.edu.br)\n",
    "\n",
    "**Integrantes da equipe:**\n",
    "* Adriana Raffaella Dos Santos Fonseca (ardsf.eng23@uea.edu.br)\n",
    "* Ana Flavia De Castro Segadilha Da Silva (afdcsds.eng23@uea.edu.br)\n",
    "* Davi Aguiar Moreira (dam.eng23@uea.edu.br)\n",
    "* Guilherme Goncalves Moraes (ggm.eng23@uea.edu.br)\n",
    "* Ian Garrido Reis (igr.eng23@uea.edu.br)\n",
    "* Luiz Fernando Borges Brito (lfbb.eng23@uea.edu.br)\n",
    "* Pedro Vitor Barros Maranhão (pvbm.eng23@uea.edu.br)\n",
    "* Rita De Cassia Brasil Alves (rdcba.eng23@uea.edu.br)\n",
    "* Yago De Oliveira Feitoza (ydof.eng21@uea.edu.br)\n",
    "\n",
    "---"
   ]
  },
  {
   "cell_type": "markdown",
   "metadata": {},
   "source": [
    "## **Importação das bibliotecas**"
   ]
  },
  {
   "cell_type": "code",
   "execution_count": 2,
   "metadata": {
    "colab": {
     "base_uri": "https://localhost:8080/"
    },
    "id": "SzKfVjPU8UvG",
    "outputId": "3d895d49-3696-4e4e-9257-8f36582655a6"
   },
   "outputs": [],
   "source": [
    "# %pip install keras-tuner tensorflow"
   ]
  },
  {
   "cell_type": "code",
   "execution_count": 88,
   "metadata": {
    "id": "rIqJLExU71X9"
   },
   "outputs": [],
   "source": [
    "import keras_tuner as kt\n",
    "from tensorflow import keras\n",
    "from tensorflow.keras import layers\n",
    "from sklearn.model_selection import train_test_split\n",
    "import pandas as pd"
   ]
  },
  {
   "cell_type": "markdown",
   "metadata": {},
   "source": [
    "## **Importação e holdout do dataset**"
   ]
  },
  {
   "cell_type": "code",
   "execution_count": 89,
   "metadata": {
    "id": "BVD-yBsl_g74"
   },
   "outputs": [],
   "source": [
    "dataset_path = 'modified_star_classification.csv'"
   ]
  },
  {
   "cell_type": "code",
   "execution_count": 90,
   "metadata": {
    "id": "CqI5BNFY_xo5"
   },
   "outputs": [],
   "source": [
    "df = pd.read_csv(dataset_path)"
   ]
  },
  {
   "cell_type": "code",
   "execution_count": 91,
   "metadata": {
    "colab": {
     "base_uri": "https://localhost:8080/"
    },
    "id": "NMlVtbeIDvDN",
    "outputId": "d85f43a1-c2d1-4ddd-d287-724a1fcf2222"
   },
   "outputs": [
    {
     "data": {
      "text/plain": [
       "(99999, 7)"
      ]
     },
     "execution_count": 91,
     "metadata": {},
     "output_type": "execute_result"
    }
   ],
   "source": [
    "df.shape"
   ]
  },
  {
   "cell_type": "code",
   "execution_count": 92,
   "metadata": {
    "colab": {
     "base_uri": "https://localhost:8080/",
     "height": 206
    },
    "id": "14suNsAg_yCl",
    "outputId": "96d590de-2bda-4c98-db55-95041b5ff9cf"
   },
   "outputs": [
    {
     "data": {
      "text/html": [
       "<div>\n",
       "<style scoped>\n",
       "    .dataframe tbody tr th:only-of-type {\n",
       "        vertical-align: middle;\n",
       "    }\n",
       "\n",
       "    .dataframe tbody tr th {\n",
       "        vertical-align: top;\n",
       "    }\n",
       "\n",
       "    .dataframe thead th {\n",
       "        text-align: right;\n",
       "    }\n",
       "</style>\n",
       "<table border=\"1\" class=\"dataframe\">\n",
       "  <thead>\n",
       "    <tr style=\"text-align: right;\">\n",
       "      <th></th>\n",
       "      <th>uv</th>\n",
       "      <th>green</th>\n",
       "      <th>red</th>\n",
       "      <th>near_infrared</th>\n",
       "      <th>infrared</th>\n",
       "      <th>redshift</th>\n",
       "      <th>class</th>\n",
       "    </tr>\n",
       "  </thead>\n",
       "  <tbody>\n",
       "    <tr>\n",
       "      <th>0</th>\n",
       "      <td>23.87882</td>\n",
       "      <td>22.27530</td>\n",
       "      <td>20.39501</td>\n",
       "      <td>19.16573</td>\n",
       "      <td>18.79371</td>\n",
       "      <td>0.634794</td>\n",
       "      <td>0</td>\n",
       "    </tr>\n",
       "    <tr>\n",
       "      <th>1</th>\n",
       "      <td>24.77759</td>\n",
       "      <td>22.83188</td>\n",
       "      <td>22.58444</td>\n",
       "      <td>21.16812</td>\n",
       "      <td>21.61427</td>\n",
       "      <td>0.779136</td>\n",
       "      <td>0</td>\n",
       "    </tr>\n",
       "    <tr>\n",
       "      <th>2</th>\n",
       "      <td>25.26307</td>\n",
       "      <td>22.66389</td>\n",
       "      <td>20.60976</td>\n",
       "      <td>19.34857</td>\n",
       "      <td>18.94827</td>\n",
       "      <td>0.644195</td>\n",
       "      <td>0</td>\n",
       "    </tr>\n",
       "    <tr>\n",
       "      <th>3</th>\n",
       "      <td>22.13682</td>\n",
       "      <td>23.77656</td>\n",
       "      <td>21.61162</td>\n",
       "      <td>20.50454</td>\n",
       "      <td>19.25010</td>\n",
       "      <td>0.932346</td>\n",
       "      <td>0</td>\n",
       "    </tr>\n",
       "    <tr>\n",
       "      <th>4</th>\n",
       "      <td>19.43718</td>\n",
       "      <td>17.58028</td>\n",
       "      <td>16.49747</td>\n",
       "      <td>15.97711</td>\n",
       "      <td>15.54461</td>\n",
       "      <td>0.116123</td>\n",
       "      <td>0</td>\n",
       "    </tr>\n",
       "  </tbody>\n",
       "</table>\n",
       "</div>"
      ],
      "text/plain": [
       "         uv     green       red  near_infrared  infrared  redshift  class\n",
       "0  23.87882  22.27530  20.39501       19.16573  18.79371  0.634794      0\n",
       "1  24.77759  22.83188  22.58444       21.16812  21.61427  0.779136      0\n",
       "2  25.26307  22.66389  20.60976       19.34857  18.94827  0.644195      0\n",
       "3  22.13682  23.77656  21.61162       20.50454  19.25010  0.932346      0\n",
       "4  19.43718  17.58028  16.49747       15.97711  15.54461  0.116123      0"
      ]
     },
     "execution_count": 92,
     "metadata": {},
     "output_type": "execute_result"
    }
   ],
   "source": [
    "df.head()"
   ]
  },
  {
   "cell_type": "code",
   "execution_count": 93,
   "metadata": {
    "id": "9viJdSiGE3V-"
   },
   "outputs": [],
   "source": [
    "X = df.drop('class', axis=1)\n",
    "y = df['class']"
   ]
  },
  {
   "cell_type": "code",
   "execution_count": 94,
   "metadata": {
    "id": "pBWC_dOrEjk7"
   },
   "outputs": [],
   "source": [
    "X_train, X_val, y_train, y_val = train_test_split(X, y, test_size=0.4, random_state=42)"
   ]
  },
  {
   "cell_type": "code",
   "execution_count": 95,
   "metadata": {
    "colab": {
     "base_uri": "https://localhost:8080/",
     "height": 335
    },
    "id": "uSBuggWHpvGA",
    "outputId": "90cb1f02-5d00-4bf7-fbc8-5c9cd6a6be34"
   },
   "outputs": [
    {
     "data": {
      "text/plain": [
       "uv               float64\n",
       "green            float64\n",
       "red              float64\n",
       "near_infrared    float64\n",
       "infrared         float64\n",
       "redshift         float64\n",
       "dtype: object"
      ]
     },
     "execution_count": 95,
     "metadata": {},
     "output_type": "execute_result"
    }
   ],
   "source": [
    "X_train.dtypes"
   ]
  },
  {
   "cell_type": "code",
   "execution_count": 96,
   "metadata": {
    "colab": {
     "base_uri": "https://localhost:8080/",
     "height": 335
    },
    "id": "sdrEwbxxpvZB",
    "outputId": "a2052aac-e95b-44ee-80d6-3412026af931"
   },
   "outputs": [
    {
     "data": {
      "text/plain": [
       "uv               float64\n",
       "green            float64\n",
       "red              float64\n",
       "near_infrared    float64\n",
       "infrared         float64\n",
       "redshift         float64\n",
       "dtype: object"
      ]
     },
     "execution_count": 96,
     "metadata": {},
     "output_type": "execute_result"
    }
   ],
   "source": [
    "X_val.dtypes"
   ]
  },
  {
   "cell_type": "code",
   "execution_count": 97,
   "metadata": {
    "colab": {
     "base_uri": "https://localhost:8080/"
    },
    "id": "yUrDBIT0pvoL",
    "outputId": "92fc1be7-1a86-4b6a-9a90-24f066dc7466"
   },
   "outputs": [
    {
     "data": {
      "text/plain": [
       "dtype('int64')"
      ]
     },
     "execution_count": 97,
     "metadata": {},
     "output_type": "execute_result"
    }
   ],
   "source": [
    "y_train.dtypes"
   ]
  },
  {
   "cell_type": "code",
   "execution_count": 98,
   "metadata": {
    "colab": {
     "base_uri": "https://localhost:8080/"
    },
    "id": "KHoievHSpv2v",
    "outputId": "f336dce8-c611-4b20-aefd-a1b56ad970d1"
   },
   "outputs": [
    {
     "data": {
      "text/plain": [
       "dtype('int64')"
      ]
     },
     "execution_count": 98,
     "metadata": {},
     "output_type": "execute_result"
    }
   ],
   "source": [
    "y_val.dtypes"
   ]
  },
  {
   "cell_type": "code",
   "execution_count": 99,
   "metadata": {
    "colab": {
     "base_uri": "https://localhost:8080/"
    },
    "id": "3w9y0SCZGCoc",
    "outputId": "d84a17e3-d16d-4fcb-8fee-53266070adf3"
   },
   "outputs": [
    {
     "data": {
      "text/plain": [
       "6"
      ]
     },
     "execution_count": 99,
     "metadata": {},
     "output_type": "execute_result"
    }
   ],
   "source": [
    "shape = X_train.shape[1]\n",
    "shape"
   ]
  },
  {
   "cell_type": "markdown",
   "metadata": {},
   "source": [
    "## **Busca em grade**"
   ]
  },
  {
   "cell_type": "markdown",
   "metadata": {},
   "source": [
    "Para a realização da busca em grade visando a obtenção de hiperparâmetros otimizados, levantam-se as seguintes características possíveis:\n",
    "\n",
    "* Camada oculta única, duas camadas ocultas;\n",
    "*  Para a camada única, levanta-se as seguintes possibilidades:\n",
    "    * Quantidade de neurônios: 32, 64 ou 128;\n",
    "    * Função de ativação: relu, tanh;\n",
    "*  Para as duas camadas ocultas, as possibilidades são:\n",
    "    * Quantidade de neurônios: 32 ou 64;\n",
    "    * Função de ativação: relu, tanh;"
   ]
  },
  {
   "cell_type": "code",
   "execution_count": 100,
   "metadata": {
    "id": "cGfmC_prFEC9"
   },
   "outputs": [],
   "source": [
    "def build_model(hp):\n",
    "  shape = X_train.shape[1]\n",
    "  input_layer = keras.Input(shape=(shape,))\n",
    "\n",
    "  x = layers.Dense(\n",
    "      hp.Choice(\"units_1\", [32, 64, 128]),\n",
    "      activation=hp.Choice(\"activation\", [\"relu\", \"tanh\"])\n",
    "  )(input_layer)\n",
    "\n",
    "  if hp.Boolean(\"second_layer\"):\n",
    "    x = layers.Dense(\n",
    "        hp.Choice(\"units_2\", [32, 64]),\n",
    "        activation=hp.Choice(\"activation_2\", [\"relu\", \"tanh\"])\n",
    "    )(x)\n",
    "\n",
    "  output_layer = layers.Dense(3, activation=\"softmax\")(x)\n",
    "\n",
    "  model = keras.Model(inputs=input_layer, outputs=output_layer)\n",
    "\n",
    "  model.compile(\n",
    "      optimizer=keras.optimizers.Adam(\n",
    "          learning_rate=hp.Choice(\"learning_rate\", [1e-2, 1e-3, 1e-4])\n",
    "      ),\n",
    "      loss=\"sparse_categorical_crossentropy\",\n",
    "      metrics=[\"accuracy\"]\n",
    "  )\n",
    "\n",
    "  return model"
   ]
  },
  {
   "cell_type": "code",
   "execution_count": 101,
   "metadata": {
    "id": "tshzHSsHh4-T"
   },
   "outputs": [],
   "source": [
    "tuner = kt.GridSearch(\n",
    "    build_model,\n",
    "    objective=\"val_accuracy\",\n",
    "    max_trials=10,\n",
    "    directory=\"tuner1_dir\",\n",
    "    project_name=\"star_classification\"\n",
    ")"
   ]
  },
  {
   "cell_type": "code",
   "execution_count": 102,
   "metadata": {
    "colab": {
     "base_uri": "https://localhost:8080/"
    },
    "id": "3FJ2awrTid8V",
    "outputId": "b7264998-e3c5-4dc3-c64c-76dc8a87d90d"
   },
   "outputs": [
    {
     "name": "stdout",
     "output_type": "stream",
     "text": [
      "Trial 10 Complete [00h 01m 08s]\n",
      "val_accuracy: 0.9701499938964844\n",
      "\n",
      "Best val_accuracy So Far: 0.9701499938964844\n",
      "Total elapsed time: 00h 11m 17s\n"
     ]
    }
   ],
   "source": [
    "tuner.search(X_train, y_train, epochs=50, validation_data=(X_val, y_val), verbose=1)"
   ]
  },
  {
   "cell_type": "markdown",
   "metadata": {},
   "source": [
    "## **Obtenção do melhor modelo da busca em grade**"
   ]
  },
  {
   "cell_type": "code",
   "execution_count": 103,
   "metadata": {
    "id": "Y_4l4JGIiwWK"
   },
   "outputs": [],
   "source": [
    "best_hp = tuner.get_best_hyperparameters(1)[0]"
   ]
  },
  {
   "cell_type": "code",
   "execution_count": 104,
   "metadata": {
    "colab": {
     "base_uri": "https://localhost:8080/"
    },
    "id": "7Jwi8RkRjlNo",
    "outputId": "35528d76-e3d1-42c1-f736-e739b6113500"
   },
   "outputs": [
    {
     "name": "stdout",
     "output_type": "stream",
     "text": [
      "<keras_tuner.src.engine.hyperparameters.hyperparameters.HyperParameters object at 0x7ebf984473d0>\n"
     ]
    }
   ],
   "source": [
    "print(best_hp)"
   ]
  },
  {
   "cell_type": "code",
   "execution_count": 105,
   "metadata": {
    "colab": {
     "base_uri": "https://localhost:8080/"
    },
    "id": "-7PLd5bWjQj3",
    "outputId": "865948c4-7e98-449e-f710-addbd1744b28"
   },
   "outputs": [
    {
     "name": "stdout",
     "output_type": "stream",
     "text": [
      "Melhores hiperparâmetros: \n",
      "units_1: 32\n",
      "activation: relu\n",
      "second_layer: True\n",
      "learning_rate: 0.001\n",
      "units_2: 64\n",
      "activation_2: relu\n"
     ]
    }
   ],
   "source": [
    "print(\"Melhores hiperparâmetros: \")\n",
    "for name in best_hp.values:\n",
    "  print(f\"{name}: {best_hp.get(name)}\")"
   ]
  }
 ],
 "metadata": {
  "accelerator": "GPU",
  "colab": {
   "gpuType": "T4",
   "provenance": []
  },
  "kernelspec": {
   "display_name": "Python 3 (ipykernel)",
   "language": "python",
   "name": "python3"
  },
  "language_info": {
   "codemirror_mode": {
    "name": "ipython",
    "version": 3
   },
   "file_extension": ".py",
   "mimetype": "text/x-python",
   "name": "python",
   "nbconvert_exporter": "python",
   "pygments_lexer": "ipython3",
   "version": "3.12.7"
  }
 },
 "nbformat": 4,
 "nbformat_minor": 4
}
