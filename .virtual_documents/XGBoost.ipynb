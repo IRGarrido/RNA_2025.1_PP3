











import pandas as pd
from sklearn.metrics import accuracy_score, precision_score, recall_score, f1_score
from sklearn.preprocessing import StandardScaler
import xgboost as xgb





X_train = pd.read_csv('holdout/x_train.csv', encoding='utf-8', index_col=0)
X_test = pd.read_csv('holdout/x_test.csv', encoding='utf-8', index_col=0)
y_train = pd.read_csv('holdout/y_train.csv', encoding='utf-8', index_col=0)
y_test = pd.read_csv('holdout/y_test.csv', encoding='utf-8', index_col=0)

scaler = StandardScaler()
X_train_std = scaler.fit_transform(X_train)
X_test_std = scaler.fit_transform(X_test)


print(X_train.shape)
X_train.head()


print(y_train.shape)
y_train.head()


print(X_test.shape)
X_test.head()


print(y_test.shape)
y_test.head()















