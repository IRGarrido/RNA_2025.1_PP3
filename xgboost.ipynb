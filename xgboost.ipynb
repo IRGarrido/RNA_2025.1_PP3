{
 "cells": [
  {
   "cell_type": "markdown",
   "id": "c3b2afe8-3775-497f-a3aa-d2cb2688bcad",
   "metadata": {},
   "source": [
    "# Comparação com Modelo XGBoost"
   ]
  },
  {
   "cell_type": "markdown",
   "id": "37854475-1234-4fd9-afae-a6d166b9c2cc",
   "metadata": {},
   "source": [
    "**Disciplina:** Redes Neurais Artificiais 2025.1\n",
    "\n",
    "**Professora orientadora:** \n",
    "Elloa B. Guedes (ebgcosta@uea.edu.br)\n",
    "\n",
    "**Integrantes da equipe:**\n",
    "* Adriana Raffaella Dos Santos Fonseca (ardsf.eng23@uea.edu.br)\n",
    "* Ana Flavia De Castro Segadilha Da Silva (afdcsds.eng23@uea.edu.br)\n",
    "* Davi Aguiar Moreira (dam.eng23@uea.edu.br)\n",
    "* Guilherme Goncalves Moraes (ggm.eng23@uea.edu.br)\n",
    "* Ian Garrido Reis (igr.eng23@uea.edu.br)\n",
    "* Luiz Fernando Borges Brito (lfbb.eng23@uea.edu.br)\n",
    "* Pedro Vitor Barros Maranhão (pvbm.eng23@uea.edu.br)\n",
    "* Rita De Cassia Brasil Alves (rdcba.eng23@uea.edu.br)\n",
    "* Yago De Oliveira Feitoza (ydof.eng21@uea.edu.br)\n",
    "\n",
    "---"
   ]
  },
  {
   "cell_type": "markdown",
   "id": "cfd56742-d082-487b-b193-bd9ff7b64c40",
   "metadata": {},
   "source": [
    "O XGBoost  (ou Extreme Gradient Boost) é inspirado no modelo Random Forests e no método de boosting. Dessa forma, este algoritmo consiste na combinação das predições de várias árvores de decisão de maneira sequencial para obtenção de um modelo forte de machine learning.\n",
    "\n",
    "Diante da popularidade do modelo XGBoost em competições do Kaggle, as quais utilizam dataset semelhantes ao deste projeto, o presente jupyter notebook tem como objetivo executar a mesma tarefa de classificação com ambas as abordagens adotadas anteriormente (holdout 60/40 e downsampling) a fim de comparar tal modelo com a rede neural artificial MLP obtida. "
   ]
  },
  {
   "cell_type": "markdown",
   "id": "fd3d3f80-2684-465f-8326-bca5bf14e733",
   "metadata": {},
   "source": [
    "## **Importação das bibliotecas**"
   ]
  },
  {
   "cell_type": "code",
   "execution_count": 102,
   "id": "214d02d6-48af-40b7-b3c8-46f66a66adf9",
   "metadata": {},
   "outputs": [],
   "source": [
    "import pandas as pd\n",
    "from sklearn.metrics import  confusion_matrix, ConfusionMatrixDisplay, f1_score\n",
    "from sklearn.preprocessing import StandardScaler\n",
    "import xgboost as xgb"
   ]
  },
  {
   "cell_type": "markdown",
   "id": "ba9f11b2-30eb-415e-a672-d59283800b3f",
   "metadata": {},
   "source": [
    "### **Importação do dataset com holdout**"
   ]
  },
  {
   "cell_type": "code",
   "execution_count": 87,
   "id": "d43872c1-0429-4f99-97c3-08081fcad95c",
   "metadata": {},
   "outputs": [],
   "source": [
    "X_train = pd.read_csv('holdout/x_train.csv', encoding='utf-8', index_col=0)\n",
    "X_test = pd.read_csv('holdout/x_test.csv', encoding='utf-8', index_col=0)\n",
    "y_train = pd.read_csv('holdout/y_train.csv', encoding='utf-8', index_col=0)\n",
    "y_test = pd.read_csv('holdout/y_test.csv', encoding='utf-8', index_col=0)\n",
    "\n",
    "scaler = StandardScaler()\n",
    "X_train_std = scaler.fit_transform(X_train)\n",
    "X_test_std = scaler.fit_transform(X_test)"
   ]
  },
  {
   "cell_type": "code",
   "execution_count": 88,
   "id": "8bda8f10-4e23-4ce7-b478-fd17170f918a",
   "metadata": {},
   "outputs": [
    {
     "name": "stdout",
     "output_type": "stream",
     "text": [
      "(59999, 6)\n"
     ]
    },
    {
     "data": {
      "text/html": [
       "<div>\n",
       "<style scoped>\n",
       "    .dataframe tbody tr th:only-of-type {\n",
       "        vertical-align: middle;\n",
       "    }\n",
       "\n",
       "    .dataframe tbody tr th {\n",
       "        vertical-align: top;\n",
       "    }\n",
       "\n",
       "    .dataframe thead th {\n",
       "        text-align: right;\n",
       "    }\n",
       "</style>\n",
       "<table border=\"1\" class=\"dataframe\">\n",
       "  <thead>\n",
       "    <tr style=\"text-align: right;\">\n",
       "      <th></th>\n",
       "      <th>uv</th>\n",
       "      <th>green</th>\n",
       "      <th>red</th>\n",
       "      <th>near_infrared</th>\n",
       "      <th>infrared</th>\n",
       "      <th>redshift</th>\n",
       "    </tr>\n",
       "  </thead>\n",
       "  <tbody>\n",
       "    <tr>\n",
       "      <th>90911</th>\n",
       "      <td>20.62885</td>\n",
       "      <td>20.35993</td>\n",
       "      <td>20.28251</td>\n",
       "      <td>19.91765</td>\n",
       "      <td>19.93754</td>\n",
       "      <td>1.659514</td>\n",
       "    </tr>\n",
       "    <tr>\n",
       "      <th>28532</th>\n",
       "      <td>21.95938</td>\n",
       "      <td>21.72848</td>\n",
       "      <td>21.01264</td>\n",
       "      <td>20.37739</td>\n",
       "      <td>19.95506</td>\n",
       "      <td>1.594490</td>\n",
       "    </tr>\n",
       "    <tr>\n",
       "      <th>13006</th>\n",
       "      <td>18.77337</td>\n",
       "      <td>17.80002</td>\n",
       "      <td>17.45395</td>\n",
       "      <td>17.31732</td>\n",
       "      <td>17.26414</td>\n",
       "      <td>-0.001246</td>\n",
       "    </tr>\n",
       "    <tr>\n",
       "      <th>23585</th>\n",
       "      <td>19.95328</td>\n",
       "      <td>18.69356</td>\n",
       "      <td>18.26171</td>\n",
       "      <td>18.07766</td>\n",
       "      <td>17.98073</td>\n",
       "      <td>0.000266</td>\n",
       "    </tr>\n",
       "    <tr>\n",
       "      <th>90377</th>\n",
       "      <td>23.84902</td>\n",
       "      <td>22.26583</td>\n",
       "      <td>21.80329</td>\n",
       "      <td>21.32157</td>\n",
       "      <td>20.60372</td>\n",
       "      <td>0.239443</td>\n",
       "    </tr>\n",
       "  </tbody>\n",
       "</table>\n",
       "</div>"
      ],
      "text/plain": [
       "             uv     green       red  near_infrared  infrared  redshift\n",
       "90911  20.62885  20.35993  20.28251       19.91765  19.93754  1.659514\n",
       "28532  21.95938  21.72848  21.01264       20.37739  19.95506  1.594490\n",
       "13006  18.77337  17.80002  17.45395       17.31732  17.26414 -0.001246\n",
       "23585  19.95328  18.69356  18.26171       18.07766  17.98073  0.000266\n",
       "90377  23.84902  22.26583  21.80329       21.32157  20.60372  0.239443"
      ]
     },
     "execution_count": 88,
     "metadata": {},
     "output_type": "execute_result"
    }
   ],
   "source": [
    "print(X_train.shape)\n",
    "X_train.head()"
   ]
  },
  {
   "cell_type": "code",
   "execution_count": 89,
   "id": "f8615ef0-9f96-491d-877c-7657f553d86e",
   "metadata": {},
   "outputs": [
    {
     "name": "stdout",
     "output_type": "stream",
     "text": [
      "(59999, 1)\n"
     ]
    },
    {
     "data": {
      "text/html": [
       "<div>\n",
       "<style scoped>\n",
       "    .dataframe tbody tr th:only-of-type {\n",
       "        vertical-align: middle;\n",
       "    }\n",
       "\n",
       "    .dataframe tbody tr th {\n",
       "        vertical-align: top;\n",
       "    }\n",
       "\n",
       "    .dataframe thead th {\n",
       "        text-align: right;\n",
       "    }\n",
       "</style>\n",
       "<table border=\"1\" class=\"dataframe\">\n",
       "  <thead>\n",
       "    <tr style=\"text-align: right;\">\n",
       "      <th></th>\n",
       "      <th>class</th>\n",
       "    </tr>\n",
       "  </thead>\n",
       "  <tbody>\n",
       "    <tr>\n",
       "      <th>90911</th>\n",
       "      <td>1</td>\n",
       "    </tr>\n",
       "    <tr>\n",
       "      <th>28532</th>\n",
       "      <td>1</td>\n",
       "    </tr>\n",
       "    <tr>\n",
       "      <th>13006</th>\n",
       "      <td>2</td>\n",
       "    </tr>\n",
       "    <tr>\n",
       "      <th>23585</th>\n",
       "      <td>2</td>\n",
       "    </tr>\n",
       "    <tr>\n",
       "      <th>90377</th>\n",
       "      <td>0</td>\n",
       "    </tr>\n",
       "  </tbody>\n",
       "</table>\n",
       "</div>"
      ],
      "text/plain": [
       "       class\n",
       "90911      1\n",
       "28532      1\n",
       "13006      2\n",
       "23585      2\n",
       "90377      0"
      ]
     },
     "execution_count": 89,
     "metadata": {},
     "output_type": "execute_result"
    }
   ],
   "source": [
    "print(y_train.shape)\n",
    "y_train.head()"
   ]
  },
  {
   "cell_type": "code",
   "execution_count": 90,
   "id": "e9059014-1c7e-4b0b-aa41-fc6db68102ab",
   "metadata": {},
   "outputs": [
    {
     "name": "stdout",
     "output_type": "stream",
     "text": [
      "(40000, 6)\n"
     ]
    },
    {
     "data": {
      "text/html": [
       "<div>\n",
       "<style scoped>\n",
       "    .dataframe tbody tr th:only-of-type {\n",
       "        vertical-align: middle;\n",
       "    }\n",
       "\n",
       "    .dataframe tbody tr th {\n",
       "        vertical-align: top;\n",
       "    }\n",
       "\n",
       "    .dataframe thead th {\n",
       "        text-align: right;\n",
       "    }\n",
       "</style>\n",
       "<table border=\"1\" class=\"dataframe\">\n",
       "  <thead>\n",
       "    <tr style=\"text-align: right;\">\n",
       "      <th></th>\n",
       "      <th>uv</th>\n",
       "      <th>green</th>\n",
       "      <th>red</th>\n",
       "      <th>near_infrared</th>\n",
       "      <th>infrared</th>\n",
       "      <th>redshift</th>\n",
       "    </tr>\n",
       "  </thead>\n",
       "  <tbody>\n",
       "    <tr>\n",
       "      <th>26002</th>\n",
       "      <td>22.85773</td>\n",
       "      <td>22.18874</td>\n",
       "      <td>21.35562</td>\n",
       "      <td>21.26577</td>\n",
       "      <td>20.93935</td>\n",
       "      <td>1.174289</td>\n",
       "    </tr>\n",
       "    <tr>\n",
       "      <th>80420</th>\n",
       "      <td>22.62560</td>\n",
       "      <td>22.02104</td>\n",
       "      <td>22.06787</td>\n",
       "      <td>22.44037</td>\n",
       "      <td>22.17338</td>\n",
       "      <td>-0.001960</td>\n",
       "    </tr>\n",
       "    <tr>\n",
       "      <th>19864</th>\n",
       "      <td>18.18911</td>\n",
       "      <td>16.89469</td>\n",
       "      <td>16.42161</td>\n",
       "      <td>16.24627</td>\n",
       "      <td>16.18549</td>\n",
       "      <td>0.000004</td>\n",
       "    </tr>\n",
       "    <tr>\n",
       "      <th>81525</th>\n",
       "      <td>17.57887</td>\n",
       "      <td>16.55078</td>\n",
       "      <td>16.21527</td>\n",
       "      <td>16.10371</td>\n",
       "      <td>16.09738</td>\n",
       "      <td>-0.000165</td>\n",
       "    </tr>\n",
       "    <tr>\n",
       "      <th>57878</th>\n",
       "      <td>27.10401</td>\n",
       "      <td>22.65568</td>\n",
       "      <td>21.26362</td>\n",
       "      <td>20.04805</td>\n",
       "      <td>19.61308</td>\n",
       "      <td>0.523852</td>\n",
       "    </tr>\n",
       "  </tbody>\n",
       "</table>\n",
       "</div>"
      ],
      "text/plain": [
       "             uv     green       red  near_infrared  infrared  redshift\n",
       "26002  22.85773  22.18874  21.35562       21.26577  20.93935  1.174289\n",
       "80420  22.62560  22.02104  22.06787       22.44037  22.17338 -0.001960\n",
       "19864  18.18911  16.89469  16.42161       16.24627  16.18549  0.000004\n",
       "81525  17.57887  16.55078  16.21527       16.10371  16.09738 -0.000165\n",
       "57878  27.10401  22.65568  21.26362       20.04805  19.61308  0.523852"
      ]
     },
     "execution_count": 90,
     "metadata": {},
     "output_type": "execute_result"
    }
   ],
   "source": [
    "print(X_test.shape)\n",
    "X_test.head()"
   ]
  },
  {
   "cell_type": "code",
   "execution_count": 91,
   "id": "87469e89-0b66-451e-9d7b-6be2852d3658",
   "metadata": {},
   "outputs": [
    {
     "name": "stdout",
     "output_type": "stream",
     "text": [
      "(40000, 1)\n"
     ]
    },
    {
     "data": {
      "text/html": [
       "<div>\n",
       "<style scoped>\n",
       "    .dataframe tbody tr th:only-of-type {\n",
       "        vertical-align: middle;\n",
       "    }\n",
       "\n",
       "    .dataframe tbody tr th {\n",
       "        vertical-align: top;\n",
       "    }\n",
       "\n",
       "    .dataframe thead th {\n",
       "        text-align: right;\n",
       "    }\n",
       "</style>\n",
       "<table border=\"1\" class=\"dataframe\">\n",
       "  <thead>\n",
       "    <tr style=\"text-align: right;\">\n",
       "      <th></th>\n",
       "      <th>class</th>\n",
       "    </tr>\n",
       "  </thead>\n",
       "  <tbody>\n",
       "    <tr>\n",
       "      <th>26002</th>\n",
       "      <td>1</td>\n",
       "    </tr>\n",
       "    <tr>\n",
       "      <th>80420</th>\n",
       "      <td>2</td>\n",
       "    </tr>\n",
       "    <tr>\n",
       "      <th>19864</th>\n",
       "      <td>2</td>\n",
       "    </tr>\n",
       "    <tr>\n",
       "      <th>81525</th>\n",
       "      <td>2</td>\n",
       "    </tr>\n",
       "    <tr>\n",
       "      <th>57878</th>\n",
       "      <td>0</td>\n",
       "    </tr>\n",
       "  </tbody>\n",
       "</table>\n",
       "</div>"
      ],
      "text/plain": [
       "       class\n",
       "26002      1\n",
       "80420      2\n",
       "19864      2\n",
       "81525      2\n",
       "57878      0"
      ]
     },
     "execution_count": 91,
     "metadata": {},
     "output_type": "execute_result"
    }
   ],
   "source": [
    "print(y_test.shape)\n",
    "y_test.head()"
   ]
  },
  {
   "cell_type": "markdown",
   "id": "435def41-0d93-46c3-aa0d-8d8518d65f49",
   "metadata": {},
   "source": [
    "## **Treinamento do modelo XGBoost**"
   ]
  },
  {
   "cell_type": "markdown",
   "id": "b4fc03e8-a4e5-4c43-a5b4-9d69839d6b33",
   "metadata": {},
   "source": [
    "### **Abordagem 1**"
   ]
  },
  {
   "cell_type": "code",
   "execution_count": 92,
   "id": "002d230f-b1eb-467b-b12c-1c7cd829ca7a",
   "metadata": {},
   "outputs": [],
   "source": [
    "first_model = xgb.XGBClassifier(objective='multi:softprob', n_estimators=10000, n_jobs=-1)"
   ]
  },
  {
   "cell_type": "code",
   "execution_count": 93,
   "id": "ddd41d59-a63a-4aa9-a7d9-2f45a5395e9e",
   "metadata": {},
   "outputs": [],
   "source": [
    "first_model.fit(X_train, y_train)\n",
    "y_pred_1 = first_model.predict(X_test_std)"
   ]
  },
  {
   "cell_type": "code",
   "execution_count": 94,
   "id": "1f5e2e15-db08-448f-8430-c315d6d90611",
   "metadata": {},
   "outputs": [
    {
     "name": "stdout",
     "output_type": "stream",
     "text": [
      "F1-Score: 0.4491\n"
     ]
    }
   ],
   "source": [
    "f1_weighted = f1_score(y_test, y_pred_1, average='weighted')\n",
    "\n",
    "print(f'F1-Score: {f1_weighted:.4f}')"
   ]
  },
  {
   "cell_type": "code",
   "execution_count": 101,
   "id": "4dd1c64e-f423-45dc-b95a-285085691a4c",
   "metadata": {},
   "outputs": [
    {
     "name": "stdout",
     "output_type": "stream",
     "text": [
      "F1-Score: 0.5413\n"
     ]
    }
   ],
   "source": [
    "f1_weighted = f1_score(y_test, y_pred_1, average='macro')\n",
    "\n",
    "print(f'F1-Score: {f1_weighted:.4f}')"
   ]
  },
  {
   "cell_type": "code",
   "execution_count": 117,
   "id": "6d920758-1973-4f92-a96e-9417455b1f3f",
   "metadata": {},
   "outputs": [
    {
     "data": {
      "image/png": "[encoded data removed]",
      "text/plain": [
       "<Figure size 640x480 with 2 Axes>"
      ]
     },
     "metadata": {},
     "output_type": "display_data"
    }
   ],
   "source": [
    "fig, ax = plt.subplots()\n",
    "\n",
    "cm_test_1 = confusion_matrix(y_test, y_pred_1)\n",
    "ConfusionMatrixDisplay(confusion_matrix=cm_test_1).plot(ax=ax,cmap=\"Blues\")\n",
    "ax.set_title(\"Matriz de Confusão - Teste\")\n",
    "\n",
    "plt.tight_layout()\n",
    "plt.show()"
   ]
  },
  {
   "cell_type": "markdown",
   "id": "d760ae58-c44f-436a-9e9a-3fc1ecedcff3",
   "metadata": {},
   "source": [
    "### **Abordagem 2**"
   ]
  },
  {
   "cell_type": "code",
   "execution_count": 95,
   "id": "e187b08f-fe79-4df3-b0eb-dbff950d1bc7",
   "metadata": {},
   "outputs": [],
   "source": [
    "X_train_std_df = pd.DataFrame(X_train_std, columns=X_train.columns, index=X_train.index)\n",
    "X_test_std_df = pd.DataFrame(X_test_std, columns=X_test.columns, index=X_test.index)\n",
    "train_df = pd.concat([X_train_std_df, y_train], axis=1)\n",
    "\n",
    "class_counts = train_df['class'].value_counts()\n",
    "\n",
    "min_count = class_counts.min()\n",
    "\n",
    "balanced_dfs = []\n",
    "\n",
    "for class_name in class_counts.index:\n",
    "    class_df = train_df[train_df['class'] == class_name]\n",
    "    balanced_dfs.append(class_df.sample(min_count, random_state=42))\n",
    "\n",
    "balanced_train_df = pd.concat(balanced_dfs)\n",
    "\n",
    "X_train_balanced = balanced_train_df.drop('class', axis=1)\n",
    "y_train_balanced = balanced_train_df['class']"
   ]
  },
  {
   "cell_type": "code",
   "execution_count": 96,
   "id": "5cd4b6bc-3173-47ba-9d55-ea6a163b903d",
   "metadata": {},
   "outputs": [],
   "source": [
    "second_model = xgb.XGBClassifier(objective='multi:softprob', n_estimators=10000, n_jobs=-1)"
   ]
  },
  {
   "cell_type": "code",
   "execution_count": 97,
   "id": "67678bf0-78b9-4ff2-9337-7286909b6c2a",
   "metadata": {},
   "outputs": [],
   "source": [
    "second_model.fit(X_train_balanced, y_train_balanced)\n",
    "y_pred_2 = second_model.predict(X_test_std)"
   ]
  },
  {
   "cell_type": "code",
   "execution_count": 98,
   "id": "0038a33b-f328-43ce-b6d0-8b8a44f6dac5",
   "metadata": {},
   "outputs": [
    {
     "name": "stdout",
     "output_type": "stream",
     "text": [
      "F1-Score: 0.9526\n"
     ]
    }
   ],
   "source": [
    "f1_weighted = f1_score(y_test, y_pred_2, average='weighted')\n",
    "\n",
    "print(f'F1-Score: {f1_weighted:.4f}')"
   ]
  },
  {
   "cell_type": "code",
   "execution_count": 99,
   "id": "d434f9b8-49c7-4700-a24f-2ac284a075ee",
   "metadata": {},
   "outputs": [
    {
     "name": "stdout",
     "output_type": "stream",
     "text": [
      "F1-Score: 0.9471\n"
     ]
    }
   ],
   "source": [
    "f1_weighted = f1_score(y_test, y_pred_2, average='macro')\n",
    "\n",
    "print(f'F1-Score: {f1_weighted:.4f}')"
   ]
  },
  {
   "cell_type": "code",
   "execution_count": 116,
   "id": "e6611541-11ac-4cdf-acf6-00283e3cbc26",
   "metadata": {},
   "outputs": [
    {
     "data": {
      "image/png": "[encoded data removed]",
      "text/plain": [
       "<Figure size 640x480 with 2 Axes>"
      ]
     },
     "metadata": {},
     "output_type": "display_data"
    }
   ],
   "source": [
    "fig, ax = plt.subplots()\n",
    "\n",
    "cm_test_2 = confusion_matrix(y_test, y_pred_2)\n",
    "ConfusionMatrixDisplay(confusion_matrix=cm_test_2).plot(ax=ax,cmap=\"Blues\")\n",
    "ax.set_title(\"Matriz de Confusão - Teste\")\n",
    "\n",
    "plt.tight_layout()\n",
    "plt.show()"
   ]
  }
 ],
 "metadata": {
  "kernelspec": {
   "display_name": "Python 3 (ipykernel)",
   "language": "python",
   "name": "python3"
  },
  "language_info": {
   "codemirror_mode": {
    "name": "ipython",
    "version": 3
   },
   "file_extension": ".py",
   "mimetype": "text/x-python",
   "name": "python",
   "nbconvert_exporter": "python",
   "pygments_lexer": "ipython3",
   "version": "3.12.9"
  }
 },
 "nbformat": 4,
 "nbformat_minor": 5
}
