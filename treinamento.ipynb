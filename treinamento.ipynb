{
 "cells": [
  {
   "cell_type": "markdown",
   "id": "5a1afec7-5083-457d-bcc9-5c2e31536339",
   "metadata": {},
   "source": [
    "# Treinamento de Redes Neurais Artificiais"
   ]
  },
  {
   "cell_type": "markdown",
   "id": "fe18c74c-dd98-4ff9-8dd8-956657baa102",
   "metadata": {},
   "source": [
    "**Disciplina:** Redes Neurais Artificiais 2025.1\n",
    "\n",
    "**Professora orientadora:** \n",
    "Elloa B. Guedes (ebgcosta@uea.edu.br)\n",
    "\n",
    "**Integrantes da equipe:**\n",
    "* Adriana Raffaella Dos Santos Fonseca (ardsf.eng23@uea.edu.br)\n",
    "* Ana Flavia De Castro Segadilha Da Silva (afdcsds.eng23@uea.edu.br)\n",
    "* Davi Aguiar Moreira (dam.eng23@uea.edu.br)\n",
    "* Guilherme Goncalves Moraes (ggm.eng23@uea.edu.br)\n",
    "* Ian Garrido Reis (igr.eng23@uea.edu.br)\n",
    "* Luiz Fernando Borges Brito (lfbb.eng23@uea.edu.br)\n",
    "* Pedro Vitor Barros Maranhão (pvbm.eng23@uea.edu.br)\n",
    "* Rita De Cassia Brasil Alves (rdcba.eng23@uea.edu.br)\n",
    "* Yago De Oliveira Feitoza (ydof.eng21@uea.edu.br)\n",
    "\n",
    "---"
   ]
  },
  {
   "cell_type": "markdown",
   "id": "882a514b",
   "metadata": {},
   "source": [
    "## **Importação das bibliotecas**"
   ]
  },
  {
   "cell_type": "code",
   "execution_count": 86,
   "id": "48e56351",
   "metadata": {},
   "outputs": [],
   "source": [
    "import pandas as pd\n",
    "import matplotlib.pyplot as plt\n",
    "import seaborn as sns\n",
    "from sklearn.neural_network import MLPClassifier\n",
    "from sklearn.metrics import accuracy_score, precision_score, recall_score, f1_score\n",
    "from sklearn.model_selection import train_test_split\n",
    "from sklearn.utils import resample\n",
    "from sklearn.preprocessing import StandardScaler"
   ]
  },
  {
   "cell_type": "markdown",
   "id": "71cec956",
   "metadata": {},
   "source": [
    "### **Importação e Holdout do dataset**"
   ]
  },
  {
   "cell_type": "code",
   "execution_count": 50,
   "id": "288c1f93",
   "metadata": {},
   "outputs": [],
   "source": [
    "file_path = 'modified_star_classification.csv'"
   ]
  },
  {
   "cell_type": "markdown",
   "id": "268dc687-927a-45be-9720-81ec23deada4",
   "metadata": {},
   "source": [
    "Data a expressiva quantidade de exemplos presentes no dataset, optou-se por dividir os dados por holdout 60/40. Além disso, a fim de possibilitar uma análise comparativa de abordagens posteriormente, utiliza-se um seed (42 por convenção)."
   ]
  },
  {
   "cell_type": "code",
   "execution_count": 53,
   "id": "181bcb72",
   "metadata": {},
   "outputs": [],
   "source": [
    "df = pd.read_csv(file_path)\n",
    "\n",
    "y = df['class']\n",
    "X = df.drop('class', axis=1)\n",
    "\n",
    "X_train, X_test, y_train, y_test = train_test_split(X, y, test_size=0.4, random_state=42)\n",
    "\n",
    "scaler = StandardScaler()\n",
    "X_train_std = scaler.fit_transform(X_train)\n",
    "X_test_std = scaler.fit_transform(X_test)"
   ]
  },
  {
   "cell_type": "markdown",
   "id": "ef7002d3",
   "metadata": {},
   "source": [
    "### **Abordagem 1: 60/40**"
   ]
  },
  {
   "cell_type": "markdown",
   "id": "c9cb9a3b-432b-472f-bdc4-fbfabcf396dc",
   "metadata": {},
   "source": [
    "Nesta abordagem, utiliza-se o holdout do modo como foi gerado anteriormente, isto é, sem o tratamento do desbalanceamento de dados. Nesse contexto, o conjunto de treinamento tem a seguinte composição: 59% dos são galáxias, 21% são estrelas e 18% são quasares. Desse modo, utilizam-se métricas ponderadas para permitir uma análise de resultados de acordo com a desigualdade no número de exemplos por classes."
   ]
  },
  {
   "cell_type": "code",
   "execution_count": 57,
   "id": "2d01ee6c",
   "metadata": {},
   "outputs": [],
   "source": [
    "first_model = MLPClassifier(\n",
    "    hidden_layer_sizes=(32, 64),\n",
    "    activation='relu',\n",
    "    solver='adam',\n",
    "    alpha=0.001,\n",
    "    learning_rate_init=0.001,\n",
    "    n_iter_no_change=10,\n",
    "    max_iter=200,\n",
    "    random_state=42,\n",
    "    early_stopping=True\n",
    ")\n",
    "\n",
    "first_model.fit(X_train_std, y_train)\n",
    "\n",
    "y_pred = first_model.predict(X_test_std)"
   ]
  },
  {
   "cell_type": "code",
   "execution_count": 59,
   "id": "7a26ec50",
   "metadata": {},
   "outputs": [
    {
     "name": "stdout",
     "output_type": "stream",
     "text": [
      "Acurácia: 0.9706\n",
      "Precisão: 0.9705\n",
      "Revocação: 0.9706\n",
      "F1-Score: 0.9704\n"
     ]
    }
   ],
   "source": [
    "accuracy = accuracy_score(y_test, y_pred)\n",
    "precision = precision_score(y_test, y_pred, average='weighted')\n",
    "recall = recall_score(y_test, y_pred, average='weighted')\n",
    "f1_weighted = f1_score(y_test, y_pred, average='weighted')\n",
    "\n",
    "print(f'Acurácia: {accuracy:.4f}')\n",
    "print(f'Precisão: {precision:.4f}')\n",
    "print(f'Revocação: {recall:.4f}')\n",
    "print(f'F1-Score: {f1_weighted:.4f}')"
   ]
  },
  {
   "cell_type": "markdown",
   "id": "3fb504bb",
   "metadata": {},
   "source": [
    "### **Abordagem 2: Downsampling**"
   ]
  },
  {
   "cell_type": "markdown",
   "id": "814b9a05-007a-4678-b6a1-6f3932a8da68",
   "metadata": {},
   "source": [
    "Esta abordagem se dá por downsampling, i.e., iguala-se a quantidade de exemplos para cada dado a fim de permitir que o treinamento do analise a mesma quantidade de exemplos para cada classe."
   ]
  },
  {
   "cell_type": "markdown",
   "id": "1c7d6989",
   "metadata": {},
   "source": [
    "**Balanceando as classes**"
   ]
  },
  {
   "cell_type": "code",
   "execution_count": 64,
   "id": "7f8d1e83",
   "metadata": {},
   "outputs": [],
   "source": [
    "X_train_std_df = pd.DataFrame(X_train_std, columns=X.columns, index=X_train.index)\n",
    "X_test_std_df = pd.DataFrame(X_test_std, columns=X.columns, index=X_test.index)\n",
    "train_df = pd.concat([X_train_std_df, y_train], axis=1)\n",
    "\n",
    "class_counts = train_df['class'].value_counts()\n",
    "\n",
    "min_count = class_counts.min()\n",
    "\n",
    "balanced_dfs = []\n",
    "\n",
    "for class_name in class_counts.index:\n",
    "    class_df = train_df[train_df['class'] == class_name]\n",
    "    balanced_dfs.append(class_df.sample(min_count, random_state=42))\n",
    "\n",
    "balanced_train_df = pd.concat(balanced_dfs)\n",
    "\n",
    "X_train_balanced = balanced_train_df.drop('class', axis=1)\n",
    "y_train_balanced = balanced_train_df['class']\n"
   ]
  },
  {
   "cell_type": "code",
   "execution_count": 66,
   "id": "8835097d",
   "metadata": {},
   "outputs": [
    {
     "data": {
      "image/png": "[encoded data removed]",
      "text/plain": [
       "<Figure size 1200x500 with 1 Axes>"
      ]
     },
     "metadata": {},
     "output_type": "display_data"
    },
    {
     "name": "stdout",
     "output_type": "stream",
     "text": [
      "\n"
     ]
    },
    {
     "data": {
      "image/png": "[encoded data removed]",
      "text/plain": [
       "<Figure size 1200x500 with 1 Axes>"
      ]
     },
     "metadata": {},
     "output_type": "display_data"
    },
    {
     "name": "stdout",
     "output_type": "stream",
     "text": [
      "\n"
     ]
    }
   ],
   "source": [
    "plt.figure(figsize=(12, 5))\n",
    "sns.countplot(data=df, x='class', color='skyblue')\n",
    "plt.title(f'Distribuição das classes')\n",
    "plt.xlabel('Classe')\n",
    "plt.ylabel('Frequência')\n",
    "plt.tight_layout()\n",
    "plt.show()\n",
    "print()\n",
    "\n",
    "plt.figure(figsize=(12, 5))\n",
    "sns.countplot(data=balanced_train_df, x='class', color='skyblue')\n",
    "plt.title(f'Distribuição das classes após downsampling')\n",
    "plt.xlabel('Classe')\n",
    "plt.ylabel('Frequência')\n",
    "plt.tight_layout()\n",
    "plt.show()\n",
    "print()"
   ]
  },
  {
   "cell_type": "markdown",
   "id": "355d635c",
   "metadata": {},
   "source": [
    "**Treinamento**"
   ]
  },
  {
   "cell_type": "code",
   "execution_count": 69,
   "id": "34b137c0",
   "metadata": {},
   "outputs": [],
   "source": [
    "second_model = MLPClassifier(\n",
    "    hidden_layer_sizes=(32, 64),\n",
    "    activation='relu',\n",
    "    solver='adam',\n",
    "    alpha=0.001,\n",
    "    learning_rate_init=0.001,\n",
    "    n_iter_no_change=10,\n",
    "    max_iter=200,\n",
    "    random_state=42,\n",
    "    early_stopping=True\n",
    ")\n",
    "\n",
    "second_model.fit(X_train_balanced, y_train_balanced)\n",
    "\n",
    "y_pred = second_model.predict(X_test_std_df)"
   ]
  },
  {
   "cell_type": "code",
   "execution_count": 71,
   "id": "0af4a201-9c4c-4280-b8c0-dcbca84a1435",
   "metadata": {},
   "outputs": [
    {
     "name": "stdout",
     "output_type": "stream",
     "text": [
      "Acurácia: 0.9691\n",
      "Precisão: 0.9693\n",
      "Revocação: 0.9691\n",
      "F1-Score: 0.9692\n"
     ]
    }
   ],
   "source": [
    "accuracy_down = accuracy_score(y_test, y_pred)\n",
    "precision_down = precision_score(y_test, y_pred, average='weighted')\n",
    "recall_down = recall_score(y_test, y_pred, average='weighted')\n",
    "f1_weighted_down = f1_score(y_test, y_pred, average='weighted')\n",
    "\n",
    "print(f'Acurácia: {accuracy_down:.4f}')\n",
    "print(f'Precisão: {precision_down:.4f}')\n",
    "print(f'Revocação: {recall_down:.4f}')\n",
    "print(f'F1-Score: {f1_weighted_down:.4f}')"
   ]
  },
  {
   "cell_type": "markdown",
   "id": "c2890ad5-5c67-4799-9fa1-9efdb5662d0a",
   "metadata": {},
   "source": [
    "**Análise de métricas**"
   ]
  },
  {
   "cell_type": "markdown",
   "id": "78492195-4c86-45b9-bcb9-25e74811845d",
   "metadata": {},
   "source": [
    "Diante da análise dos valores de F1-Score de ambas as abordagens para o mesmo conjunto de testes, nota-se proximidade entre os valores. Tal proximidade se deu para uma única execução de um único modelo para cada abordagem, sendo possível que outras execuções favoreçam uma abordagem em dentrimento da outra.\n",
    "\n",
    "Nesse cenário, a segunda abordagem mostra-se viável, dado que permite a obtenção de um métrica próxima à primeira, com uma quantidade de dados muito menor."
   ]
  }
 ],
 "metadata": {
  "kernelspec": {
   "display_name": "Python 3 (ipykernel)",
   "language": "python",
   "name": "python3"
  },
  "language_info": {
   "codemirror_mode": {
    "name": "ipython",
    "version": 3
   },
   "file_extension": ".py",
   "mimetype": "text/x-python",
   "name": "python",
   "nbconvert_exporter": "python",
   "pygments_lexer": "ipython3",
   "version": "3.12.7"
  }
 },
 "nbformat": 4,
 "nbformat_minor": 5
}
