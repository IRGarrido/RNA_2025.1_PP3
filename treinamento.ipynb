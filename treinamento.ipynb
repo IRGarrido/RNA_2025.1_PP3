{
 "cells": [
  {
   "cell_type": "markdown",
   "id": "5a1afec7-5083-457d-bcc9-5c2e31536339",
   "metadata": {},
   "source": [
    "# Treinamento de Redes Neurais Artificiais"
   ]
  },
  {
   "cell_type": "markdown",
   "id": "fe18c74c-dd98-4ff9-8dd8-956657baa102",
   "metadata": {},
   "source": [
    "**Disciplina:** Redes Neurais Artificiais 2025.1\n",
    "\n",
    "**Professora orientadora:** \n",
    "Elloa B. Guedes (ebgcosta@uea.edu.br)\n",
    "\n",
    "**Integrantes da equipe:**\n",
    "* Adriana Raffaella Dos Santos Fonseca (ardsf.eng23@uea.edu.br)\n",
    "* Ana Flavia De Castro Segadilha Da Silva (afdcsds.eng23@uea.edu.br)\n",
    "* Davi Aguiar Moreira (dam.eng23@uea.edu.br)\n",
    "* Guilherme Goncalves Moraes (ggm.eng23@uea.edu.br)\n",
    "* Ian Garrido Reis (igr.eng23@uea.edu.br)\n",
    "* Luiz Fernando Borges Brito (lfbb.eng23@uea.edu.br)\n",
    "* Pedro Vitor Barros Maranhão (pvbm.eng23@uea.edu.br)\n",
    "* Rita De Cassia Brasil Alves (rdcba.eng23@uea.edu.br)\n",
    "* Yago De Oliveira Feitoza (ydof.eng21@uea.edu.br)\n",
    "\n",
    "---"
   ]
  },
  {
   "cell_type": "markdown",
   "id": "882a514b",
   "metadata": {},
   "source": [
    "## **Importação das bibliotecas**"
   ]
  },
  {
   "cell_type": "code",
   "execution_count": 60,
   "id": "48e56351",
   "metadata": {},
   "outputs": [],
   "source": [
    "import pandas as pd\n",
    "import matplotlib.pyplot as plt\n",
    "import seaborn as sns\n",
    "from sklearn.neural_network import MLPClassifier\n",
    "from sklearn.metrics import make_scorer,accuracy_score, precision_score, recall_score, f1_score\n",
    "from sklearn.model_selection import train_test_split, GridSearchCV\n",
    "from sklearn.utils import resample\n",
    "from sklearn.preprocessing import StandardScaler\n",
    "from prettytable import PrettyTable"
   ]
  },
  {
   "cell_type": "markdown",
   "id": "71cec956",
   "metadata": {},
   "source": [
    "### **Importação e Holdout do dataset**"
   ]
  },
  {
   "cell_type": "code",
   "execution_count": 4,
   "id": "288c1f93",
   "metadata": {},
   "outputs": [],
   "source": [
    "file_path = 'modified_star_classification.csv'"
   ]
  },
  {
   "cell_type": "markdown",
   "id": "268dc687-927a-45be-9720-81ec23deada4",
   "metadata": {},
   "source": [
    "Data a expressiva quantidade de exemplos presentes no dataset, optou-se por dividir os dados por holdout 60/40. Além disso, a fim de possibilitar uma análise comparativa de abordagens posteriormente, utiliza-se um seed (42 por convenção)."
   ]
  },
  {
   "cell_type": "code",
   "execution_count": 5,
   "id": "181bcb72",
   "metadata": {},
   "outputs": [],
   "source": [
    "df = pd.read_csv(file_path)\n",
    "\n",
    "y = df['class']\n",
    "X = df.drop('class', axis=1)\n",
    "\n",
    "X_train, X_test, y_train, y_test = train_test_split(X, y, test_size=0.4, random_state=42)\n",
    "\n",
    "scaler = StandardScaler()\n",
    "X_train_std = scaler.fit_transform(X_train)\n",
    "X_test_std = scaler.fit_transform(X_test)"
   ]
  },
  {
   "cell_type": "code",
   "execution_count": 6,
   "id": "3593be1a-8ec0-47b3-b338-fe6fd9425470",
   "metadata": {},
   "outputs": [
    {
     "data": {
      "text/plain": [
       "pandas.core.frame.DataFrame"
      ]
     },
     "execution_count": 6,
     "metadata": {},
     "output_type": "execute_result"
    }
   ],
   "source": [
    "type(X_train)"
   ]
  },
  {
   "cell_type": "code",
   "execution_count": 7,
   "id": "aac7c6f6-264c-4a01-84ff-f0da4bc7a1df",
   "metadata": {},
   "outputs": [],
   "source": [
    "X_train.to_csv('holdout/x_train.csv', encoding='utf-8')\n",
    "X_test.to_csv('holdout/x_test.csv', encoding='utf-8')\n",
    "y_train.to_csv('holdout/y_train.csv', encoding='utf-8')\n",
    "y_test.to_csv('holdout/y_test.csv', encoding='utf-8')"
   ]
  },
  {
   "cell_type": "markdown",
   "id": "ef7002d3",
   "metadata": {},
   "source": [
    "### **Abordagem 1: 60/40**"
   ]
  },
  {
   "cell_type": "markdown",
   "id": "c9cb9a3b-432b-472f-bdc4-fbfabcf396dc",
   "metadata": {},
   "source": [
    "Nesta abordagem, utiliza-se o holdout do modo como foi gerado anteriormente, isto é, sem o tratamento do desbalanceamento de dados. Nesse contexto, o conjunto de treinamento tem a seguinte composição: 59% dos são galáxias, 21% são estrelas e 18% são quasares. Desse modo, utilizam-se métricas ponderadas para permitir uma análise de resultados de acordo com a desigualdade no número de exemplos por classes."
   ]
  },
  {
   "cell_type": "code",
   "execution_count": 23,
   "id": "3c94aea5-28e2-43be-980e-a532f165b30c",
   "metadata": {},
   "outputs": [
    {
     "name": "stdout",
     "output_type": "stream",
     "text": [
      "19.0\n"
     ]
    }
   ],
   "source": [
    "#Uso da pirâmide geométrica\n",
    "\n",
    "alpha=3\n",
    "\n",
    "# Definindo Ni = Número de neurônios na camada de entrada (Número de features em X)\n",
    "Ni= 6 \n",
    "\n",
    "# Definindo No = Número de neurônios na camada de saída (Número de tipos em Cover_Type)\n",
    "No = 7\n",
    "\n",
    "Nh=round((alpha*((Ni*No)**0.5)),0)\n",
    "\n",
    "print(Nh)\n"
   ]
  },
  {
   "cell_type": "code",
   "execution_count": 37,
   "id": "186af4b6-bd1e-4737-aa0d-7b15ff9567e6",
   "metadata": {},
   "outputs": [],
   "source": [
    "#Construção de Arquiteturas\n",
    "\n",
    "#19 neurônios\n",
    "arquiteturas=[\n",
    "    ((10, 9), 'adam', 'relu', 100),    #1\n",
    "    ((10, 9), 'sgd', 'tanh', 100),     #2\n",
    "    ((9, 10), 'adam', 'relu', 100),    #3\n",
    "    ((9, 10), 'sgd', 'tanh', 100),     #4\n",
    "    ((12, 7), 'sgd', 'tanh', 100),      #5\n",
    "    ((12, 7), 'adam', 'relu', 100), #6\n",
    "    ((7, 12), 'sgd', 'relu', 100),      #7\n",
    "    ((7, 12), 'adam', 'logistic', 100),     #8\n",
    "]"
   ]
  },
  {
   "cell_type": "code",
   "execution_count": 47,
   "id": "7caa7ddb-2c17-48c4-8734-0842d98e415d",
   "metadata": {},
   "outputs": [
    {
     "name": "stdout",
     "output_type": "stream",
     "text": [
      "+----------------------------------------------------------+\n",
      "|    Treinamento de arquiteturas com método da pirâmide    |\n",
      "+-------------+----------+----------+-----------+----------+\n",
      "| Arquitetura | Acurácia | Precisão | Revocação | F1-Score |\n",
      "+-------------+----------+----------+-----------+----------+\n",
      "|      1      |  0.9698  |  0.9697  |   0.9698  |  0.9695  |\n",
      "|      2      |  0.9656  |  0.9655  |   0.9656  |  0.9653  |\n",
      "|      3      |  0.9698  |  0.9697  |   0.9698  |  0.9695  |\n",
      "|      4      |  0.9657  |  0.9657  |   0.9657  |  0.9654  |\n",
      "|      5      |  0.9614  |  0.9615  |   0.9614  |  0.9611  |\n",
      "|      6      |  0.9692  |  0.9691  |   0.9692  |  0.9689  |\n",
      "|      7      |  0.9633  |  0.9634  |   0.9633  |  0.9630  |\n",
      "|      8      |  0.9674  |  0.9673  |   0.9674  |  0.9671  |\n",
      "+-------------+----------+----------+-----------+----------+\n"
     ]
    }
   ],
   "source": [
    "#Treinamento das arquiteturas\n",
    "\n",
    "resultados=[]\n",
    "for i in range (len(arquiteturas)):\n",
    "    model = MLPClassifier(\n",
    "    hidden_layer_sizes=arquiteturas[i][0],\n",
    "    activation=arquiteturas[i][2],\n",
    "    solver=arquiteturas[i][1],\n",
    "    alpha=0.001,\n",
    "    learning_rate_init=0.001,\n",
    "    n_iter_no_change=10,\n",
    "    max_iter=200,\n",
    "    random_state=42,\n",
    "    early_stopping=True\n",
    "    )\n",
    "    model.fit(X_train_std, y_train)\n",
    "    y_pred = model.predict(X_test_std)\n",
    "    \n",
    "    accuracy = accuracy_score(y_test, y_pred)\n",
    "    precision = precision_score(y_test, y_pred, average='weighted')\n",
    "    recall = recall_score(y_test, y_pred, average='weighted')\n",
    "    f1_weighted = f1_score(y_test, y_pred, average='weighted')\n",
    "    resultados.append([accuracy,precision,recall, f1_weighted])\n",
    "\n",
    "#Construção da Tabela usando Prettytable\n",
    "\n",
    "table = PrettyTable()\n",
    "table.title=('Treinamento de arquiteturas com método da pirâmide')\n",
    "table.field_names = ['Arquitetura', 'Acurácia','Precisão','Revocação','F1-Score']\n",
    "for i in range(len(arquiteturas)):\n",
    "    table.add_row([f'{i+1}',f'{resultados[i][0]:.4f}',f'{resultados[i][1]:.4f}',f'{resultados[i][2]:.4f}',f'{resultados[i][3]:.4f}'])\n",
    "print(table)"
   ]
  },
  {
   "cell_type": "code",
   "execution_count": 35,
   "id": "2d01ee6c",
   "metadata": {},
   "outputs": [],
   "source": [
    "model = MLPClassifier(\n",
    "    hidden_layer_sizes=(32, 64),\n",
    "    activation='relu',\n",
    "    solver='adam',\n",
    "    alpha=0.001,\n",
    "    learning_rate_init=0.001,\n",
    "    n_iter_no_change=10,\n",
    "    max_iter=200,\n",
    "    random_state=42,\n",
    "    early_stopping=True\n",
    ")\n",
    "\n",
    "model.fit(X_train_std, y_train)\n",
    "\n",
    "y_pred = model.predict(X_test_std)"
   ]
  },
  {
   "cell_type": "code",
   "execution_count": 10,
   "id": "7a26ec50",
   "metadata": {},
   "outputs": [
    {
     "name": "stdout",
     "output_type": "stream",
     "text": [
      "Acurácia: 0.9706\n",
      "Precisão: 0.9705\n",
      "Revocação: 0.9706\n",
      "F1-Score: 0.9704\n"
     ]
    }
   ],
   "source": [
    "accuracy = accuracy_score(y_test, y_pred)\n",
    "precision = precision_score(y_test, y_pred, average='weighted')\n",
    "recall = recall_score(y_test, y_pred, average='weighted')\n",
    "f1_weighted = f1_score(y_test, y_pred, average='weighted')\n",
    "\n",
    "print(f'Acurácia: {accuracy:.4f}')\n",
    "print(f'Precisão: {precision:.4f}')\n",
    "print(f'Revocação: {recall:.4f}')\n",
    "print(f'F1-Score: {f1_weighted:.4f}')"
   ]
  },
  {
   "cell_type": "markdown",
   "id": "3fb504bb",
   "metadata": {},
   "source": [
    "### **Abordagem 2: Downsampling**"
   ]
  },
  {
   "cell_type": "markdown",
   "id": "814b9a05-007a-4678-b6a1-6f3932a8da68",
   "metadata": {},
   "source": [
    "Esta abordagem se dá por downsampling, i.e., iguala-se a quantidade de exemplos para cada dado a fim de permitir que o treinamento do analise a mesma quantidade de exemplos para cada classe."
   ]
  },
  {
   "cell_type": "markdown",
   "id": "1c7d6989",
   "metadata": {},
   "source": [
    "**Balanceando as classes**"
   ]
  },
  {
   "cell_type": "code",
   "execution_count": 13,
   "id": "7f8d1e83",
   "metadata": {},
   "outputs": [],
   "source": [
    "X_train_std_df = pd.DataFrame(X_train_std, columns=X.columns, index=X_train.index)\n",
    "X_test_std_df = pd.DataFrame(X_test_std, columns=X.columns, index=X_test.index)\n",
    "train_df = pd.concat([X_train_std_df, y_train], axis=1)\n",
    "\n",
    "class_counts = train_df['class'].value_counts()\n",
    "\n",
    "min_count = class_counts.min()\n",
    "\n",
    "balanced_dfs = []\n",
    "\n",
    "for class_name in class_counts.index:\n",
    "    class_df = train_df[train_df['class'] == class_name]\n",
    "    balanced_dfs.append(class_df.sample(min_count, random_state=42))\n",
    "\n",
    "balanced_train_df = pd.concat(balanced_dfs)\n",
    "\n",
    "X_train_balanced = balanced_train_df.drop('class', axis=1)\n",
    "y_train_balanced = balanced_train_df['class']\n"
   ]
  },
  {
   "cell_type": "code",
   "execution_count": 14,
   "id": "8835097d",
   "metadata": {},
   "outputs": [
    {
     "data": {
      "image/png": "[encoded data removed]",
      "text/plain": [
       "<Figure size 1200x500 with 1 Axes>"
      ]
     },
     "metadata": {},
     "output_type": "display_data"
    },
    {
     "name": "stdout",
     "output_type": "stream",
     "text": [
      "\n"
     ]
    },
    {
     "data": {
      "image/png": "[encoded data removed]",
      "text/plain": [
       "<Figure size 1200x500 with 1 Axes>"
      ]
     },
     "metadata": {},
     "output_type": "display_data"
    },
    {
     "name": "stdout",
     "output_type": "stream",
     "text": [
      "\n"
     ]
    }
   ],
   "source": [
    "plt.figure(figsize=(12, 5))\n",
    "sns.countplot(data=df, x='class', color='skyblue')\n",
    "plt.title(f'Distribuição das classes')\n",
    "plt.xlabel('Classe')\n",
    "plt.ylabel('Frequência')\n",
    "plt.tight_layout()\n",
    "plt.show()\n",
    "print()\n",
    "\n",
    "plt.figure(figsize=(12, 5))\n",
    "sns.countplot(data=balanced_train_df, x='class', color='skyblue')\n",
    "plt.title(f'Distribuição das classes após downsampling')\n",
    "plt.xlabel('Classe')\n",
    "plt.ylabel('Frequência')\n",
    "plt.tight_layout()\n",
    "plt.show()\n",
    "print()"
   ]
  },
  {
   "cell_type": "code",
   "execution_count": 49,
   "id": "d3b445a3-d7a1-471b-96a6-91239947df5c",
   "metadata": {},
   "outputs": [
    {
     "name": "stdout",
     "output_type": "stream",
     "text": [
      "+----------------------------------------------------------+\n",
      "|    Treinamento de arquiteturas com método da pirâmide    |\n",
      "+-------------+----------+----------+-----------+----------+\n",
      "| Arquitetura | Acurácia | Precisão | Revocação | F1-Score |\n",
      "+-------------+----------+----------+-----------+----------+\n",
      "|      1      |  0.9654  |  0.9656  |   0.9654  |  0.9654  |\n",
      "|      2      |  0.9577  |  0.9581  |   0.9577  |  0.9576  |\n",
      "|      3      |  0.9625  |  0.9626  |   0.9625  |  0.9624  |\n",
      "|      4      |  0.9584  |  0.9589  |   0.9584  |  0.9584  |\n",
      "|      5      |  0.9584  |  0.9589  |   0.9584  |  0.9584  |\n",
      "|      6      |  0.9665  |  0.9666  |   0.9665  |  0.9665  |\n",
      "|      7      |  0.9562  |  0.9568  |   0.9562  |  0.9562  |\n",
      "|      8      |  0.9619  |  0.9621  |   0.9619  |  0.9618  |\n",
      "+-------------+----------+----------+-----------+----------+\n"
     ]
    }
   ],
   "source": [
    "#Treinamento das arquiteturas\n",
    "\n",
    "resultados_downsample=[]\n",
    "for i in range (len(arquiteturas)):\n",
    "    model = MLPClassifier(\n",
    "    hidden_layer_sizes=arquiteturas[i][0],\n",
    "    activation=arquiteturas[i][2],\n",
    "    solver=arquiteturas[i][1],\n",
    "    alpha=0.001,\n",
    "    learning_rate_init=0.001,\n",
    "    n_iter_no_change=10,\n",
    "    max_iter=200,\n",
    "    random_state=42,\n",
    "    early_stopping=True\n",
    "    )\n",
    "    model.fit(X_train_balanced, y_train_balanced)\n",
    "    y_pred = model.predict(X_test_std_df)\n",
    "    \n",
    "    accuracy = accuracy_score(y_test, y_pred)\n",
    "    precision = precision_score(y_test, y_pred, average='weighted')\n",
    "    recall = recall_score(y_test, y_pred, average='weighted')\n",
    "    f1= f1_score(y_test, y_pred, average='weighted')\n",
    "    resultados_downsample.append([accuracy,precision,recall, f1])\n",
    "\n",
    "#Construção da Tabela usando Prettytable\n",
    "\n",
    "table = PrettyTable()\n",
    "table.title=('Treinamento de arquiteturas com método da pirâmide')\n",
    "table.field_names = ['Arquitetura', 'Acurácia','Precisão','Revocação','F1-Score']\n",
    "for i in range(len(arquiteturas)):\n",
    "    table.add_row([f'{i+1}',f'{resultados_downsample[i][0]:.4f}',f'{resultados_downsample[i][1]:.4f}',f'{resultados_downsample[i][2]:.4f}',f'{resultados_downsample[i][3]:.4f}'])\n",
    "print(table)"
   ]
  },
  {
   "cell_type": "markdown",
   "id": "355d635c",
   "metadata": {},
   "source": [
    "**Treinamento**"
   ]
  },
  {
   "cell_type": "code",
   "execution_count": 15,
   "id": "34b137c0",
   "metadata": {},
   "outputs": [],
   "source": [
    "second_model = MLPClassifier(\n",
    "    hidden_layer_sizes=(32, 64),\n",
    "    activation='relu',\n",
    "    solver='adam',\n",
    "    alpha=0.001,\n",
    "    learning_rate_init=0.001,\n",
    "    n_iter_no_change=10,\n",
    "    max_iter=200,\n",
    "    random_state=42,\n",
    "    early_stopping=True\n",
    ")\n",
    "\n",
    "second_model.fit(X_train_balanced, y_train_balanced)\n",
    "\n",
    "y_pred = second_model.predict(X_test_std_df)"
   ]
  },
  {
   "cell_type": "code",
   "execution_count": 16,
   "id": "0af4a201-9c4c-4280-b8c0-dcbca84a1435",
   "metadata": {},
   "outputs": [
    {
     "name": "stdout",
     "output_type": "stream",
     "text": [
      "Acurácia: 0.9691\n",
      "Precisão: 0.9693\n",
      "Revocação: 0.9691\n",
      "F1-Score: 0.9692\n"
     ]
    }
   ],
   "source": [
    "accuracy_down = accuracy_score(y_test, y_pred)\n",
    "precision_down = precision_score(y_test, y_pred, average='weighted')\n",
    "recall_down = recall_score(y_test, y_pred, average='weighted')\n",
    "f1_weighted_down = f1_score(y_test, y_pred, average='weighted')\n",
    "\n",
    "print(f'Acurácia: {accuracy_down:.4f}')\n",
    "print(f'Precisão: {precision_down:.4f}')\n",
    "print(f'Revocação: {recall_down:.4f}')\n",
    "print(f'F1-Score: {f1_weighted_down:.4f}')"
   ]
  },
  {
   "cell_type": "markdown",
   "id": "c2890ad5-5c67-4799-9fa1-9efdb5662d0a",
   "metadata": {},
   "source": [
    "**Análise de métricas**"
   ]
  },
  {
   "cell_type": "markdown",
   "id": "78492195-4c86-45b9-bcb9-25e74811845d",
   "metadata": {},
   "source": [
    "Diante da análise dos valores de F1-Score de ambas as abordagens para o mesmo conjunto de testes, nota-se proximidade entre os valores. Tal proximidade se deu para uma única execução de um único modelo para cada abordagem, sendo possível que outras execuções favoreçam uma abordagem em dentrimento da outra.\n",
    "\n",
    "Nesse cenário, a segunda abordagem mostra-se viável, dado que permite a obtenção de um métrica próxima à primeira, com uma quantidade de dados muito menor."
   ]
  },
  {
   "cell_type": "markdown",
   "id": "d8c08a27-5bea-4f3c-9152-033986344a31",
   "metadata": {},
   "source": [
    "**Grid Search**"
   ]
  },
  {
   "cell_type": "code",
   "execution_count": 65,
   "id": "5422a3ce-a702-403b-b07a-f5ff6a961e22",
   "metadata": {},
   "outputs": [],
   "source": [
    "def busca_grade(mlp, parameters, scorers, X, y):\n",
    "    busca = GridSearchCV(mlp, parameters, scoring=scorers, n_jobs=-1,  verbose=2, refit='f1')\n",
    "    busca.fit(X,y)\n",
    "    return busca.cv_results_, busca.best_params_, busca.best_score_"
   ]
  },
  {
   "cell_type": "code",
   "execution_count": null,
   "id": "73a3bc74-be9b-4f39-8057-7b74b566ece9",
   "metadata": {},
   "outputs": [],
   "source": [
    "#Parametros do Grid Search\n",
    "parametros = {\n",
    "    'solver' :  ['adam', 'sgd'], \n",
    "    'batch_size' : [100, 200],\n",
    "    'learning_rate_init' : [0.0001, 0.001, 0.01],\n",
    "    'n_iter_no_change' : [10, 20], #paciência\n",
    "    'max_iter' : [100, 200] #número de épocas\n",
    "}"
   ]
  },
  {
   "cell_type": "code",
   "execution_count": 75,
   "id": "8b26094e-a4e6-4c9f-857c-5ff5b5260b68",
   "metadata": {},
   "outputs": [
    {
     "name": "stdout",
     "output_type": "stream",
     "text": [
      "Fitting 5 folds for each of 2 candidates, totalling 10 fits\n",
      "{'batch_size': 100, 'learning_rate_init': 0.0001, 'max_iter': 100, 'n_iter_no_change': 10, 'solver': 'adam'}\n"
     ]
    }
   ],
   "source": [
    "scorers = {\n",
    "    'acurácia': make_scorer(accuracy_score),\n",
    "    'f1': make_scorer(f1_score, average='weighted'),  \n",
    "    'revocação': make_scorer( recall_score, average='weighted'),\n",
    "    'precisão':make_scorer(precision_score, average='weighted')\n",
    "}\n",
    "model= MLPClassifier(\n",
    "    hidden_layer_sizes=arquiteturas[0][0],\n",
    "    activation=arquiteturas[0][2],\n",
    "    solver=arquiteturas[0][1],\n",
    "    alpha=0.001,\n",
    "    learning_rate_init=0.001,\n",
    "    n_iter_no_change=10,\n",
    "    max_iter=200,\n",
    "    random_state=42,\n",
    "    early_stopping=True\n",
    "    )\n",
    "\n",
    "resultado_grid, melhor_parametros, melhor_f1 = busca_grade(model, parametros,scorers, X, y)\n",
    "\n",
    "print(f'Melhores parâmetros:{melhor_parametros}')\n",
    "print(f'Melhor f1={melhor_f1:.4f}')"
   ]
  },
  {
   "cell_type": "code",
   "execution_count": 77,
   "id": "11f4001b-e99b-4cd4-96a8-86d0c41f3120",
   "metadata": {},
   "outputs": [
    {
     "data": {
      "text/html": [
       "<div>\n",
       "<style scoped>\n",
       "    .dataframe tbody tr th:only-of-type {\n",
       "        vertical-align: middle;\n",
       "    }\n",
       "\n",
       "    .dataframe tbody tr th {\n",
       "        vertical-align: top;\n",
       "    }\n",
       "\n",
       "    .dataframe thead th {\n",
       "        text-align: right;\n",
       "    }\n",
       "</style>\n",
       "<table border=\"1\" class=\"dataframe\">\n",
       "  <thead>\n",
       "    <tr style=\"text-align: right;\">\n",
       "      <th></th>\n",
       "      <th>mean_fit_time</th>\n",
       "      <th>std_fit_time</th>\n",
       "      <th>mean_score_time</th>\n",
       "      <th>std_score_time</th>\n",
       "      <th>param_batch_size</th>\n",
       "      <th>param_learning_rate_init</th>\n",
       "      <th>param_max_iter</th>\n",
       "      <th>param_n_iter_no_change</th>\n",
       "      <th>param_solver</th>\n",
       "      <th>params</th>\n",
       "      <th>...</th>\n",
       "      <th>std_test_revocação</th>\n",
       "      <th>rank_test_revocação</th>\n",
       "      <th>split0_test_precisão</th>\n",
       "      <th>split1_test_precisão</th>\n",
       "      <th>split2_test_precisão</th>\n",
       "      <th>split3_test_precisão</th>\n",
       "      <th>split4_test_precisão</th>\n",
       "      <th>mean_test_precisão</th>\n",
       "      <th>std_test_precisão</th>\n",
       "      <th>rank_test_precisão</th>\n",
       "    </tr>\n",
       "  </thead>\n",
       "  <tbody>\n",
       "    <tr>\n",
       "      <th>0</th>\n",
       "      <td>294.506147</td>\n",
       "      <td>53.593864</td>\n",
       "      <td>0.339089</td>\n",
       "      <td>0.076544</td>\n",
       "      <td>100</td>\n",
       "      <td>0.0001</td>\n",
       "      <td>100</td>\n",
       "      <td>10</td>\n",
       "      <td>adam</td>\n",
       "      <td>{'batch_size': 100, 'learning_rate_init': 0.00...</td>\n",
       "      <td>...</td>\n",
       "      <td>0.002486</td>\n",
       "      <td>1</td>\n",
       "      <td>0.958889</td>\n",
       "      <td>0.960746</td>\n",
       "      <td>0.954298</td>\n",
       "      <td>0.957208</td>\n",
       "      <td>0.960854</td>\n",
       "      <td>0.958399</td>\n",
       "      <td>0.002450</td>\n",
       "      <td>1</td>\n",
       "    </tr>\n",
       "    <tr>\n",
       "      <th>1</th>\n",
       "      <td>190.026592</td>\n",
       "      <td>18.722424</td>\n",
       "      <td>0.140892</td>\n",
       "      <td>0.032073</td>\n",
       "      <td>100</td>\n",
       "      <td>0.0001</td>\n",
       "      <td>100</td>\n",
       "      <td>10</td>\n",
       "      <td>sgd</td>\n",
       "      <td>{'batch_size': 100, 'learning_rate_init': 0.00...</td>\n",
       "      <td>...</td>\n",
       "      <td>0.002569</td>\n",
       "      <td>2</td>\n",
       "      <td>0.950577</td>\n",
       "      <td>0.951351</td>\n",
       "      <td>0.946954</td>\n",
       "      <td>0.954701</td>\n",
       "      <td>0.949218</td>\n",
       "      <td>0.950560</td>\n",
       "      <td>0.002553</td>\n",
       "      <td>2</td>\n",
       "    </tr>\n",
       "  </tbody>\n",
       "</table>\n",
       "<p>2 rows × 42 columns</p>\n",
       "</div>"
      ],
      "text/plain": [
       "   mean_fit_time  std_fit_time  mean_score_time  std_score_time  \\\n",
       "0     294.506147     53.593864         0.339089        0.076544   \n",
       "1     190.026592     18.722424         0.140892        0.032073   \n",
       "\n",
       "   param_batch_size  param_learning_rate_init  param_max_iter  \\\n",
       "0               100                    0.0001             100   \n",
       "1               100                    0.0001             100   \n",
       "\n",
       "   param_n_iter_no_change param_solver  \\\n",
       "0                      10         adam   \n",
       "1                      10          sgd   \n",
       "\n",
       "                                              params  ...  std_test_revocação  \\\n",
       "0  {'batch_size': 100, 'learning_rate_init': 0.00...  ...            0.002486   \n",
       "1  {'batch_size': 100, 'learning_rate_init': 0.00...  ...            0.002569   \n",
       "\n",
       "   rank_test_revocação  split0_test_precisão  split1_test_precisão  \\\n",
       "0                    1              0.958889              0.960746   \n",
       "1                    2              0.950577              0.951351   \n",
       "\n",
       "   split2_test_precisão  split3_test_precisão  split4_test_precisão  \\\n",
       "0              0.954298              0.957208              0.960854   \n",
       "1              0.946954              0.954701              0.949218   \n",
       "\n",
       "   mean_test_precisão  std_test_precisão  rank_test_precisão  \n",
       "0            0.958399           0.002450                   1  \n",
       "1            0.950560           0.002553                   2  \n",
       "\n",
       "[2 rows x 42 columns]"
      ]
     },
     "execution_count": 77,
     "metadata": {},
     "output_type": "execute_result"
    }
   ],
   "source": [
    "df_grid=  pd.DataFrame(resultado_grid)\n",
    "df_grid.head()"
   ]
  },
  {
   "cell_type": "markdown",
   "id": "21d63423-73b0-4c5d-a853-2a3411c780cb",
   "metadata": {},
   "source": [
    "**Modelo final**"
   ]
  },
  {
   "cell_type": "code",
   "execution_count": null,
   "id": "8074d61d-3e71-4ee7-879b-1a5f5d8998db",
   "metadata": {},
   "outputs": [],
   "source": []
  }
 ],
 "metadata": {
  "kernelspec": {
   "display_name": "Python 3 (ipykernel)",
   "language": "python",
   "name": "python3"
  },
  "language_info": {
   "codemirror_mode": {
    "name": "ipython",
    "version": 3
   },
   "file_extension": ".py",
   "mimetype": "text/x-python",
   "name": "python",
   "nbconvert_exporter": "python",
   "pygments_lexer": "ipython3",
   "version": "3.10.18"
  }
 },
 "nbformat": 4,
 "nbformat_minor": 5
}
